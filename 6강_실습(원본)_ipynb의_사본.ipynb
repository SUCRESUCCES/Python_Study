{
  "nbformat": 4,
  "nbformat_minor": 0,
  "metadata": {
    "colab": {
      "provenance": [],
      "include_colab_link": true
    },
    "kernelspec": {
      "name": "python3",
      "display_name": "Python 3"
    },
    "language_info": {
      "name": "python"
    }
  },
  "cells": [
    {
      "cell_type": "markdown",
      "metadata": {
        "id": "view-in-github",
        "colab_type": "text"
      },
      "source": [
        "<a href=\"https://colab.research.google.com/github/SUCRESUCCES/Python_Study/blob/main/6%EA%B0%95_%EC%8B%A4%EC%8A%B5(%EC%9B%90%EB%B3%B8)_ipynb%EC%9D%98_%EC%82%AC%EB%B3%B8.ipynb\" target=\"_parent\"><img src=\"https://colab.research.google.com/assets/colab-badge.svg\" alt=\"Open In Colab\"/></a>"
      ]
    },
    {
      "cell_type": "markdown",
      "source": [
        "# 6장 1절"
      ],
      "metadata": {
        "id": "hckgpz65oDBv"
      }
    },
    {
      "cell_type": "markdown",
      "source": [],
      "metadata": {
        "id": "YTufO0W3_AWP"
      }
    },
    {
      "cell_type": "markdown",
      "source": [
        "선택 구조"
      ],
      "metadata": {
        "id": "izYVMxO7_BOQ"
      }
    },
    {
      "cell_type": "code",
      "source": [
        "# 비교 연산자 사용하여 참, 거짓 파악하기\n",
        "3 >6\n",
        "# False : F가 대문자로 출력됨!\n",
        "3 < 6\n",
        "# True\n",
        "3 == 6"
      ],
      "metadata": {
        "colab": {
          "base_uri": "https://localhost:8080/"
        },
        "id": "U9BsESbf_A5l",
        "outputId": "e4eeac76-4e0a-45da-8b5d-82c14421e973"
      },
      "execution_count": 2,
      "outputs": [
        {
          "output_type": "execute_result",
          "data": {
            "text/plain": [
              "False"
            ]
          },
          "metadata": {},
          "execution_count": 2
        }
      ]
    },
    {
      "cell_type": "code",
      "source": [
        "rad = 10\n",
        "rad == 10"
      ],
      "metadata": {
        "colab": {
          "base_uri": "https://localhost:8080/"
        },
        "id": "fq9xTGUw_lKi",
        "outputId": "1328b3b5-8205-4f93-de83-90854bcd01e2"
      },
      "execution_count": 3,
      "outputs": [
        {
          "output_type": "execute_result",
          "data": {
            "text/plain": [
              "True"
            ]
          },
          "metadata": {},
          "execution_count": 3
        }
      ]
    },
    {
      "cell_type": "code",
      "source": [
        "light_on = 3 >6\n",
        "print(light_on)"
      ],
      "metadata": {
        "colab": {
          "base_uri": "https://localhost:8080/"
        },
        "id": "SyxGtabS_twB",
        "outputId": "febaf0b4-f792-451f-84b7-a1b212ad8d4a"
      },
      "execution_count": 4,
      "outputs": [
        {
          "output_type": "stream",
          "name": "stdout",
          "text": [
            "False\n"
          ]
        }
      ]
    },
    {
      "cell_type": "code",
      "source": [
        "suf = 10\n",
        "vol = 20\n",
        "isStop = suf == vol\n",
        "print(isStop)"
      ],
      "metadata": {
        "colab": {
          "base_uri": "https://localhost:8080/"
        },
        "id": "2J-KvweC_814",
        "outputId": "f5c250cc-f9e0-4ec2-d18b-9b3a850b61bc"
      },
      "execution_count": 5,
      "outputs": [
        {
          "output_type": "stream",
          "name": "stdout",
          "text": [
            "False\n"
          ]
        }
      ]
    },
    {
      "cell_type": "code",
      "execution_count": null,
      "metadata": {
        "id": "ZW1w8qQHoAm3"
      },
      "outputs": [],
      "source": [
        "#반지름 사용자 입력\n",
        "rad = int(input(\"반지름을 입력하세요:\"))\n",
        "#높이 사용자 입력\n",
        "hei = int(input(\"높이를 입력하세요:\"))\n",
        "#부피&겉넓이 계산\n",
        "vol = 1/3 * 3.14 * rad ** 2 * hei\n",
        "suf = 3.14 * rad ** 2 + 3.14 * rad * hei\n",
        "print(\"원뿔의 부피는\" ,vol, \"입니다.\")\n",
        "print(\"원뿔의 겉넓이는\" ,suf, \"입니다\")"
      ]
    },
    {
      "cell_type": "code",
      "source": [
        "#반지름 사용자 입력\n",
        "rad = int(input(\"반지름을 입력하세요:\"))\n",
        "#높이 사용자 입력\n",
        "hei = int(input(\"높이를 입력하세요:\"))\n",
        "\n",
        "# if : 조건에 맞을 때만 실행\n",
        "if rad > 0 :\n",
        "    #부피&겉넓이 계산\n",
        "    vol = 1/3 * 3.14 * rad ** 2 * hei\n",
        "    suf = 3.14 * rad ** 2 + 3.14 * rad * hei\n",
        "    print(\"원뿔의 부피는\" ,vol, \"입니다.\")\n",
        "    print(\"원뿔의 겉넓이는\" ,suf, \"입니다\")"
      ],
      "metadata": {
        "colab": {
          "base_uri": "https://localhost:8080/"
        },
        "id": "oqRkUNZOANfN",
        "outputId": "b9843755-6412-4126-9337-f75bb521c153"
      },
      "execution_count": 7,
      "outputs": [
        {
          "name": "stdout",
          "output_type": "stream",
          "text": [
            "반지름을 입력하세요:-20\n",
            "높이를 입력하세요:30\n"
          ]
        }
      ]
    },
    {
      "cell_type": "markdown",
      "source": [],
      "metadata": {
        "id": "gIxdfGagpB53"
      }
    },
    {
      "cell_type": "markdown",
      "source": [
        "# 6강 2절"
      ],
      "metadata": {
        "id": "cquz2vj9oGml"
      }
    },
    {
      "cell_type": "code",
      "source": [
        "temp = 20\n",
        "fruit = \"apple\"\n",
        "\n",
        "print(temp >= 27 and fruit == \"pear\")\n",
        "\n",
        "\n",
        "temp = 20\n",
        "fruit = \"apple\"\n",
        "\n",
        "print(temp <= 27 or fruit == \"pear\")"
      ],
      "metadata": {
        "id": "SuPkvKRSoJBE",
        "colab": {
          "base_uri": "https://localhost:8080/"
        },
        "outputId": "9cdb90ef-fe7c-48c2-bce5-b8936292f94f"
      },
      "execution_count": 12,
      "outputs": [
        {
          "output_type": "stream",
          "name": "stdout",
          "text": [
            "False\n",
            "True\n"
          ]
        }
      ]
    },
    {
      "cell_type": "markdown",
      "source": [
        "else를 이용한 원뿔 프로그램 개선"
      ],
      "metadata": {
        "id": "LIDnJQKIKuGw"
      }
    },
    {
      "cell_type": "code",
      "source": [
        "#반지름 사용자 입력\n",
        "rad = int(input(\"반지름을 입력하세요:\"))\n",
        "#높이 사용자 입력\n",
        "hei = int(input(\"높이를 입력하세요:\"))\n",
        "\n",
        "# if : 조건에 맞을 때만 실행\n",
        "if rad > 0 and hei > 0 :\n",
        "    #부피&겉넓이 계산\n",
        "    vol = 1/3 * 3.14 * rad ** 2 * hei\n",
        "    suf = 3.14 * rad ** 2 + 3.14 * rad * hei\n",
        "    print(\"원뿔의 부피는\" ,vol, \"입니다.\")\n",
        "    print(\"원뿔의 겉넓이는\" ,suf, \"입니다\")"
      ],
      "metadata": {
        "colab": {
          "base_uri": "https://localhost:8080/"
        },
        "id": "NrXV51vEGLol",
        "outputId": "eb665582-f746-4851-a375-03628d61b577"
      },
      "execution_count": 16,
      "outputs": [
        {
          "name": "stdout",
          "output_type": "stream",
          "text": [
            "반지름을 입력하세요:20\n",
            "높이를 입력하세요:-30\n"
          ]
        }
      ]
    },
    {
      "cell_type": "markdown",
      "source": [
        "이분 구조를 이용한 원뿔 프로그램 개선"
      ],
      "metadata": {
        "id": "vsMDbuoFK8jf"
      }
    },
    {
      "cell_type": "code",
      "source": [
        "#반지름 사용자 입력\n",
        "rad = int(input(\"반지름을 입력하세요:\"))\n",
        "#높이 사용자 입력\n",
        "hei = int(input(\"높이를 입력하세요:\"))\n",
        "\n",
        "if rad > 0 and hei > 0 :\n",
        "    #부피&겉넓이 계산\n",
        "    vol = 1/3 * 3.14 * rad ** 2 * hei\n",
        "    suf = 3.14 * rad ** 2 + 3.14 * rad * hei\n",
        "    print(\"원뿔의 부피는\" ,vol, \"입니다.\")\n",
        "    print(\"원뿔의 겉넓이는\" ,suf, \"입니다\")\n",
        "else :\n",
        "    print(\"반지름과 높이의 값을 모두 양수로 입력해주세요\")"
      ],
      "metadata": {
        "colab": {
          "base_uri": "https://localhost:8080/"
        },
        "id": "lEbGXz0iK66i",
        "outputId": "916473e2-b5f5-4f91-dff8-f2a5aec1288b"
      },
      "execution_count": 17,
      "outputs": [
        {
          "output_type": "stream",
          "name": "stdout",
          "text": [
            "반지름을 입력하세요:20\n",
            "높이를 입력하세요:-30\n",
            "반지름과 높이의 값을 모두 양수로 입력해주세요\n"
          ]
        }
      ]
    },
    {
      "cell_type": "markdown",
      "source": [
        "가장 큰 수 찾는 프로그램\n",
        "\n",
        "\n",
        "---\n",
        "\n",
        "\n",
        "-> 세 수 A, B, C를 입력 받고 그 중 가장 큰 수를 출력하는 프로그램"
      ],
      "metadata": {
        "id": "_2ZlVieZpKuT"
      }
    },
    {
      "cell_type": "code",
      "source": [
        "# A, B, C 사용자 입력\n",
        "A = int(input(\"A 입력 : \"))\n",
        "B = int(input(\"B 입력 : \"))\n",
        "C = int(input(\"C 입력 : \"))\n",
        "\n",
        "# A, B, C 중 가장 큰 수 출력\n",
        "max(A, B, C)\n",
        "# 선택구조로 만들어보기\n",
        "if A > B :\n",
        "    if A > C :\n",
        "        print(A)\n",
        "    else :\n",
        "      print(C)\n",
        "else :\n",
        "    if B > C :\n",
        "       print(B)\n",
        "    else :\n",
        "      print(C)"
      ],
      "metadata": {
        "colab": {
          "base_uri": "https://localhost:8080/"
        },
        "id": "wc3c6Rn3LkfZ",
        "outputId": "b2e0c63c-a248-452f-c522-7300b518c2a9"
      },
      "execution_count": 19,
      "outputs": [
        {
          "output_type": "stream",
          "name": "stdout",
          "text": [
            "A 입력 : 10\n",
            "B 입력 : 20\n",
            "C 입력 : 30\n",
            "30\n"
          ]
        }
      ]
    }
  ]
}